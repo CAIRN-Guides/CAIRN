{
 "cells": [
  {
   "cell_type": "markdown",
   "id": "24a7d2ec",
   "metadata": {},
   "source": [
    "# Hands‑On Demo: Downloading Washington UTC Docket UE‑200301"
   ]
  },
  {
   "cell_type": "markdown",
   "id": "8eb9ef3e",
   "metadata": {},
   "source": [
    "\n",
    "This Jupyter notebook demonstrates how to use **`utc_downloader_nb.py`** to fetch every public filing in Washington UTC docket **UE‑200301** (Avista Utilities’ 2023 Electric IRP Progress Report).\n",
    "\n",
    "**Docket details**  \n",
    " * Docket: UE‑200301 \n",
    " * Company: Avista Corporation (Avista Utilities)  \n",
    " * Opened: 2020‑04‑01  \n",
    " * Most recent filing year: 2025 (as of April 17 2025)\n",
    "\n",
    "---\n",
    "\n",
    "**Workflow**\n",
    "\n",
    "1. Install the two lightweight dependencies (`requests`, `beautifulsoup4`).  \n",
    "2. Import helper functions from `utc_downloader_nb.py`. (download from github)\n",
    "3. Discover every proxy link from 2020 → current year.  \n",
    "4. Inspect the list in a DataFrame.  \n",
    "5. Download the PDFs to a local `./utc_200301/` folder.\n"
   ]
  },
  {
   "cell_type": "code",
   "execution_count": 3,
   "id": "9d5da7d8",
   "metadata": {},
   "outputs": [],
   "source": [
    "from utc_downloader_nb import list_document_links, download_documents\n",
    "from pathlib import Path\n"
   ]
  },
  {
   "cell_type": "code",
   "execution_count": 4,
   "id": "a4ca934a",
   "metadata": {},
   "outputs": [
    {
     "name": "stderr",
     "output_type": "stream",
     "text": [
      "INFO: • 2020 – 207 docs\n",
      "INFO: • 2021 – 0 docs\n",
      "INFO: • 2022 – 0 docs\n",
      "INFO: • 2023 – 0 docs\n",
      "INFO: • 2024 – 0 docs\n",
      "INFO: • 2025 – 0 docs\n",
      "WARNING: Total unique documents: 207\n"
     ]
    },
    {
     "name": "stdout",
     "output_type": "stream",
     "text": [
      "Discovered 207 documents\n"
     ]
    }
   ],
   "source": [
    "links = list_document_links(\"200301\", start_year=2020)\n",
    "print(f\"Discovered {len(links)} documents\")"
   ]
  },
  {
   "cell_type": "code",
   "execution_count": 5,
   "id": "a56df3c0",
   "metadata": {},
   "outputs": [
    {
     "name": "stderr",
     "output_type": "stream",
     "text": [
      "INFO: Note: NumExpr detected 24 cores but \"NUMEXPR_MAX_THREADS\" not set, so enforcing safe limit of 16.\n",
      "INFO: NumExpr defaulting to 16 threads.\n"
     ]
    },
    {
     "data": {
      "text/html": [
       "<div>\n",
       "<style scoped>\n",
       "    .dataframe tbody tr th:only-of-type {\n",
       "        vertical-align: middle;\n",
       "    }\n",
       "\n",
       "    .dataframe tbody tr th {\n",
       "        vertical-align: top;\n",
       "    }\n",
       "\n",
       "    .dataframe thead th {\n",
       "        text-align: right;\n",
       "    }\n",
       "</style>\n",
       "<table border=\"1\" class=\"dataframe\">\n",
       "  <thead>\n",
       "    <tr style=\"text-align: right;\">\n",
       "      <th></th>\n",
       "      <th>docID</th>\n",
       "      <th>file_name</th>\n",
       "    </tr>\n",
       "  </thead>\n",
       "  <tbody>\n",
       "    <tr>\n",
       "      <th>200</th>\n",
       "      <td>11</td>\n",
       "      <td>UE-200301 and UG-190724 Notice of Recessed Ope...</td>\n",
       "    </tr>\n",
       "    <tr>\n",
       "      <th>201</th>\n",
       "      <td>12</td>\n",
       "      <td>UE-200301 and UG-190724 POS.pdf</td>\n",
       "    </tr>\n",
       "    <tr>\n",
       "      <th>182</th>\n",
       "      <td>149</td>\n",
       "      <td>200301 and 190724-2021 IRP Appendices Final.pdf</td>\n",
       "    </tr>\n",
       "    <tr>\n",
       "      <th>198</th>\n",
       "      <td>15</td>\n",
       "      <td>200301-190724-Staff-Comments-Appendix1-2-5-21.pdf</td>\n",
       "    </tr>\n",
       "    <tr>\n",
       "      <th>130</th>\n",
       "      <td>150</td>\n",
       "      <td>200301 and 190724-2021 IRP New Supply Side Res...</td>\n",
       "    </tr>\n",
       "  </tbody>\n",
       "</table>\n",
       "</div>"
      ],
      "text/plain": [
       "    docID                                          file_name\n",
       "200    11  UE-200301 and UG-190724 Notice of Recessed Ope...\n",
       "201    12                    UE-200301 and UG-190724 POS.pdf\n",
       "182   149    200301 and 190724-2021 IRP Appendices Final.pdf\n",
       "198    15  200301-190724-Staff-Comments-Appendix1-2-5-21.pdf\n",
       "130   150  200301 and 190724-2021 IRP New Supply Side Res..."
      ]
     },
     "execution_count": 5,
     "metadata": {},
     "output_type": "execute_result"
    }
   ],
   "source": [
    "import pandas as pd\n",
    "df = pd.DataFrame([\n",
    "    {\"docID\": doc_id, \"file_name\": fname}\n",
    "    for doc_id, (_, fname) in links.items()\n",
    "]).sort_values(\"docID\")\n",
    "df.head()\n"
   ]
  },
  {
   "cell_type": "code",
   "execution_count": null,
   "id": "3ca44e25",
   "metadata": {},
   "outputs": [
    {
     "name": "stderr",
     "output_type": "stream",
     "text": [
      "INFO: ✓ 200301 WCEC comment on UTC Notice.pdf\n",
      "INFO: ✓ 200301-AVA-CLtr-08-9-23.pdf\n",
      "INFO: ✓ 200301-AVA-IRP Presentation-08-9-23.pdf\n",
      "INFO: ✓ 200301-RNW-Cmt-8-1-23.pdf\n",
      "INFO: ✓ 2023 Avista Electric IRP PR Staff Comments.pdf\n",
      "INFO: ✓ 200301-NWEC-Cmt-8-1-23.pdf\n",
      "INFO: ✓ 200301-WNIDCL Final Comments-8-1-23.pdf\n",
      "INFO: ✓ 220244-200301- POS.pdf\n",
      "INFO: ✓ UE-200301 and UG-220244  - Notice of ROM - Avista 2023 Gas IRP and Electric IRP Progress Report.pdf\n",
      "INFO: ✓ Electric IRP Notice of Process Change.pdf\n",
      "INFO: ✓ UE-200301 UE-200304 UE-200420 POS.pdf\n",
      "INFO: ✓ UE-200301 and UG- 220244 - Notice of Opportunity to File Written Comments Avista IRP and Progress Report.pdf\n",
      "INFO: ✓ 220244-200302-POS.pdf\n",
      "INFO: ✓ 200301-AVA-Electric IRP-Appendix J %28R%29-06-01-2023.pdf\n",
      "INFO: ✓ 200301-AVA-2023 Electric IRP-Appendix H %28R%29-06-01-2023.pdf\n",
      "INFO: ✓ 200301-AVA-CLtr-06-01-2023.pdf\n",
      "INFO: ✓ 15_PRiSM_8.0_Expected Deterministic Case_030223_Clean_Portfolio.xlsm.pdf\n",
      "INFO: ✓ 05_PRiSM_8.0_Expected Case_030223_NoCETA-NCIF-SCGHG-NG.xlsm.pdf\n",
      "INFO: ✓ 2045 1000 MW Summary Results.xlsx.pdf\n",
      "INFO: ✓ PRiSM Results_031323.xlsx.pdf\n",
      "INFO: ✓ 14_PRiSM_8.0_Expected Case_030223_Combined_Electrification_with_Dist_costs.xlsm.pdf\n",
      "INFO: ✓ 11_PRiSM_8.0_Expected Case_030223_High EV Growth.xlsm.pdf\n",
      "INFO: ✓ Load Forecast for 2023 Progress Report_Update.xlsx.pdf\n",
      "INFO: ✓ Final Avista Electric Measure List.xlsx.pdf\n",
      "INFO: ✓ 03_PRiSM_8.0_Expected Case_030223_Baseline.xlsm.pdf\n",
      "INFO: ✓ 07_PRiSM_8.0_Expected Case_030223_WRAP_PRM_No_QCC_Changes.xlsm.pdf\n"
     ]
    }
   ],
   "source": [
    "download_documents(links, Path(\"./utc_200301\"), delay=1.0)\n"
   ]
  }
 ],
 "metadata": {
  "kernelspec": {
   "display_name": "base",
   "language": "python",
   "name": "python3"
  },
  "language_info": {
   "codemirror_mode": {
    "name": "ipython",
    "version": 3
   },
   "file_extension": ".py",
   "mimetype": "text/x-python",
   "name": "python",
   "nbconvert_exporter": "python",
   "pygments_lexer": "ipython3",
   "version": "3.11.5"
  }
 },
 "nbformat": 4,
 "nbformat_minor": 5
}
